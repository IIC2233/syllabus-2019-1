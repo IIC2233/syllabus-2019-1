{
 "cells": [
  {
   "cell_type": "markdown",
   "metadata": {
    "colab_type": "text",
    "id": "RFOFYfgdlOwi",
    "slideshow": {
     "slide_type": "slide"
    }
   },
   "source": [
    "# Networking"
   ]
  },
  {
   "cell_type": "markdown",
   "metadata": {
    "slideshow": {
     "slide_type": "fragment"
    }
   },
   "source": [
    "### Michael Hund & Fernando Alfaro\n",
    "_Formulario de feedback:_ https://goo.gl/forms/aFpTe9LGx9ObcMBu1"
   ]
  },
  {
   "cell_type": "markdown",
   "metadata": {
    "colab_type": "text",
    "id": "rd-vu_dspdwU",
    "slideshow": {
     "slide_type": "subslide"
    }
   },
   "source": [
    "## ¿Que es?"
   ]
  },
  {
   "cell_type": "markdown",
   "metadata": {
    "slideshow": {
     "slide_type": "fragment"
    }
   },
   "source": [
    "Permite a un programa interactuar con otros, independiente si se encuentran en la misma máquina."
   ]
  },
  {
   "cell_type": "markdown",
   "metadata": {
    "colab_type": "text",
    "id": "8oDvj7b7po3s",
    "slideshow": {
     "slide_type": "subslide"
    }
   },
   "source": [
    "## ¿Cómo funciona?"
   ]
  },
  {
   "cell_type": "markdown",
   "metadata": {
    "slideshow": {
     "slide_type": "fragment"
    }
   },
   "source": [
    "- Ocupa un **medio**: *wifi*, *ethernet*, etc."
   ]
  },
  {
   "cell_type": "markdown",
   "metadata": {
    "slideshow": {
     "slide_type": "fragment"
    }
   },
   "source": [
    "- Necesita **identificar** al otro programa: *dirección* y *puerto*."
   ]
  },
  {
   "cell_type": "markdown",
   "metadata": {
    "slideshow": {
     "slide_type": "fragment"
    }
   },
   "source": [
    "- Consensuar un **protocolo**: *TCP*, *UDP* (reglas de la conexion)."
   ]
  },
  {
   "cell_type": "markdown",
   "metadata": {
    "colab_type": "text",
    "id": "OSr882YNqvcs",
    "slideshow": {
     "slide_type": "slide"
    }
   },
   "source": [
    "## Dirección IP"
   ]
  },
  {
   "cell_type": "markdown",
   "metadata": {
    "slideshow": {
     "slide_type": "fragment"
    }
   },
   "source": [
    "Es la *etiqueta* que recibe una máquina en un medio para distinguirse."
   ]
  },
  {
   "cell_type": "markdown",
   "metadata": {
    "slideshow": {
     "slide_type": "fragment"
    }
   },
   "source": [
    "### Versiones"
   ]
  },
  {
   "cell_type": "markdown",
   "metadata": {
    "slideshow": {
     "slide_type": "fragment"
    }
   },
   "source": [
    "- **IPv4**: número de 32 bits. Por ejemplo `192.30.253.112`"
   ]
  },
  {
   "cell_type": "markdown",
   "metadata": {
    "slideshow": {
     "slide_type": "fragment"
    }
   },
   "source": [
    "- **IPv6**: número de 128 bits. Por ejemplo `2001:0db8:85a3:0000:0000:8a2e:0370:7334`"
   ]
  },
  {
   "cell_type": "markdown",
   "metadata": {
    "colab_type": "text",
    "id": "2uFN9CCT1hXY",
    "slideshow": {
     "slide_type": "subslide"
    }
   },
   "source": [
    "## Puertos"
   ]
  },
  {
   "cell_type": "markdown",
   "metadata": {
    "slideshow": {
     "slide_type": "fragment"
    }
   },
   "source": [
    "Es la *compuerta* que utilizan los programas en un mismo ordenador para la recepción y envío de datos."
   ]
  },
  {
   "cell_type": "markdown",
   "metadata": {
    "slideshow": {
     "slide_type": "fragment"
    }
   },
   "source": [
    "Se representan como un número de 16 bits. Un ordenador promedio posee 65.536 puertos."
   ]
  },
  {
   "cell_type": "markdown",
   "metadata": {
    "colab_type": "text",
    "id": "91mzLiJa2XcT",
    "slideshow": {
     "slide_type": "slide"
    }
   },
   "source": [
    "## Protocolos"
   ]
  },
  {
   "cell_type": "markdown",
   "metadata": {
    "slideshow": {
     "slide_type": "fragment"
    }
   },
   "source": [
    "Son las *reglas* que rigen la comunicación entre los programas."
   ]
  },
  {
   "cell_type": "markdown",
   "metadata": {
    "slideshow": {
     "slide_type": "subslide"
    }
   },
   "source": [
    "### TCP"
   ]
  },
  {
   "cell_type": "markdown",
   "metadata": {
    "slideshow": {
     "slide_type": "fragment"
    }
   },
   "source": [
    "- Permite enviar y recibir un *stream* de *bytes* de forma **confiable** (orden y fiabilidad)."
   ]
  },
  {
   "cell_type": "markdown",
   "metadata": {
    "slideshow": {
     "slide_type": "fragment"
    }
   },
   "source": [
    "- En caso de pérdida de información los datos son retransmitidos hasta una recepción correcta."
   ]
  },
  {
   "cell_type": "markdown",
   "metadata": {
    "slideshow": {
     "slide_type": "fragment"
    }
   },
   "source": [
    "- Orientado a **conexión** (primero se conecta, luego se realiza la comunicación)."
   ]
  },
  {
   "cell_type": "markdown",
   "metadata": {
    "slideshow": {
     "slide_type": "fragment"
    }
   },
   "source": [
    "- Alta fiabilidad, alta latencia y encabezados pesados (mails, transferencias, etc)."
   ]
  },
  {
   "cell_type": "markdown",
   "metadata": {
    "slideshow": {
     "slide_type": "subslide"
    }
   },
   "source": [
    "### UDP"
   ]
  },
  {
   "cell_type": "markdown",
   "metadata": {
    "slideshow": {
     "slide_type": "fragment"
    }
   },
   "source": [
    "- Permite enviar y recibir un *datagramas* de forma **constante**."
   ]
  },
  {
   "cell_type": "markdown",
   "metadata": {
    "slideshow": {
     "slide_type": "fragment"
    }
   },
   "source": [
    "- Hace su *mejor esfuerzo* para enviar la información, sacrificando su orden y fiabilidad."
   ]
  },
  {
   "cell_type": "markdown",
   "metadata": {
    "slideshow": {
     "slide_type": "fragment"
    }
   },
   "source": [
    "- **No** orientado a **conexión**."
   ]
  },
  {
   "cell_type": "markdown",
   "metadata": {
    "slideshow": {
     "slide_type": "fragment"
    }
   },
   "source": [
    "- Baja fiabilidad, alta latencia (audio/video streaming, live podcast, etc)."
   ]
  },
  {
   "cell_type": "markdown",
   "metadata": {
    "colab_type": "text",
    "id": "wZpLyNdi6QR8",
    "slideshow": {
     "slide_type": "slide"
    }
   },
   "source": [
    "## Networking en Python"
   ]
  },
  {
   "cell_type": "markdown",
   "metadata": {
    "slideshow": {
     "slide_type": "subslide"
    }
   },
   "source": [
    "### Arquitectura Cliente-Servidor"
   ]
  },
  {
   "cell_type": "markdown",
   "metadata": {
    "slideshow": {
     "slide_type": "fragment"
    }
   },
   "source": [
    "![title](https://upload.wikimedia.org/wikipedia/commons/c/c9/Client-server-model.svg)\n",
    "Fuente: [wikipedia](https://en.wikipedia.org/wiki/Client%E2%80%93server_model)"
   ]
  },
  {
   "cell_type": "markdown",
   "metadata": {
    "colab_type": "text",
    "id": "x2DaOMgl7DQa",
    "slideshow": {
     "slide_type": "subslide"
    }
   },
   "source": [
    "### Sockets"
   ]
  },
  {
   "cell_type": "markdown",
   "metadata": {
    "slideshow": {
     "slide_type": "fragment"
    }
   },
   "source": [
    "Un **socket** es un **objeto** encargado de manejar la comunicación entre los distintos programas."
   ]
  },
  {
   "cell_type": "markdown",
   "metadata": {
    "slideshow": {
     "slide_type": "subslide"
    }
   },
   "source": [
    "Para definir un socket necesitamos:"
   ]
  },
  {
   "cell_type": "markdown",
   "metadata": {
    "slideshow": {
     "slide_type": "fragment"
    }
   },
   "source": [
    "**family**: versión de **dirección ip** a utilizar\n",
    "    - IPv4: `AF_INET`\n",
    "    - IPv6: `AF_INET6`"
   ]
  },
  {
   "cell_type": "markdown",
   "metadata": {
    "slideshow": {
     "slide_type": "fragment"
    }
   },
   "source": [
    "**type**: tipo de **protocolo** a utilizar\n",
    "    - TCP: `SOCK_STREAM`\n",
    "    - UDP: `SOCK_DGRAM`"
   ]
  },
  {
   "cell_type": "code",
   "execution_count": 0,
   "metadata": {
    "colab": {},
    "colab_type": "code",
    "id": "OK7aCNrLlr9k",
    "slideshow": {
     "slide_type": "subslide"
    }
   },
   "outputs": [],
   "source": [
    "# De esta forma el socket para una transmición IPv4 con TCP seria:\n",
    "import socket\n",
    "\n",
    "sock = socket.socket(socket.AF_INET, socket.SOCK_STREAM)"
   ]
  },
  {
   "cell_type": "markdown",
   "metadata": {
    "colab_type": "text",
    "id": "HvWxEb0d9atq",
    "slideshow": {
     "slide_type": "slide"
    }
   },
   "source": [
    "### Cliente TCP\n",
    "Representa a una de las conexiones al servidor."
   ]
  },
  {
   "cell_type": "markdown",
   "metadata": {
    "slideshow": {
     "slide_type": "fragment"
    }
   },
   "source": [
    "1. Se conecta a una dirección ip y puerto arbitrario."
   ]
  },
  {
   "cell_type": "markdown",
   "metadata": {
    "slideshow": {
     "slide_type": "fragment"
    }
   },
   "source": [
    "2. Para el **envío** de información (siempre como *bytes*) utilizamos `sendall`."
   ]
  },
  {
   "cell_type": "markdown",
   "metadata": {
    "slideshow": {
     "slide_type": "fragment"
    }
   },
   "source": [
    "3. Para la **recepción** desde el servidor utilizamos `recv` (con alguna potencia de 2 pequeña)."
   ]
  },
  {
   "cell_type": "markdown",
   "metadata": {
    "slideshow": {
     "slide_type": "fragment"
    }
   },
   "source": [
    "4. **Cerrar** la conexión mediante `close`"
   ]
  },
  {
   "cell_type": "code",
   "execution_count": 8,
   "metadata": {
    "colab": {
     "base_uri": "https://localhost:8080/",
     "height": 101
    },
    "colab_type": "code",
    "id": "1D2wGeU8_I57",
    "outputId": "93c9328d-5306-459b-f878-9aac093a7072",
    "slideshow": {
     "slide_type": "subslide"
    }
   },
   "outputs": [
    {
     "name": "stdout",
     "output_type": "stream",
     "text": [
      "HTTP/1.1 301 Moved Permanently\r\n",
      "Content-length: 0\r\n",
      "Location: https:///\r\n",
      "\r\n",
      "\n"
     ]
    }
   ],
   "source": [
    "import socket\n",
    "\n",
    "sock = socket.socket(socket.AF_INET, socket.SOCK_STREAM)\n",
    "\n",
    "try:\n",
    "    # Nos conectamos al servidor\n",
    "    sock.connect(('python.org', 80))\n",
    "    \n",
    "    # Enviamos una solicitud\n",
    "    sock.sendall('GET / HTTP/1.1\\n\\n\\n'.encode('ascii'))\n",
    "    \n",
    "    # Recibimos respuesta\n",
    "    data = sock.recv(4096)\n",
    "    print(data.decode('ascii'))\n",
    "    \n",
    "except ConnectionError as e:\n",
    "    print(\"Ocurrió un error.\")\n",
    "    \n",
    "finally:\n",
    "    # ¡No olvidemos cerrar la conexión!\n",
    "    sock.close()"
   ]
  },
  {
   "cell_type": "markdown",
   "metadata": {
    "colab_type": "text",
    "id": "hSeJF_pm_eiY",
    "slideshow": {
     "slide_type": "subslide"
    }
   },
   "source": [
    "### Servidor TCP\n",
    "Debe escuchar las conexiones que llegan y atender sus consultas."
   ]
  },
  {
   "cell_type": "markdown",
   "metadata": {
    "slideshow": {
     "slide_type": "fragment"
    }
   },
   "source": [
    "1. **Enlazar** un socket a una dirección ip y puerto mediante `bind`."
   ]
  },
  {
   "cell_type": "markdown",
   "metadata": {
    "slideshow": {
     "slide_type": "fragment"
    }
   },
   "source": [
    "2. **Escuchar** conexiones mediante `listen`."
   ]
  },
  {
   "cell_type": "markdown",
   "metadata": {
    "slideshow": {
     "slide_type": "fragment"
    }
   },
   "source": [
    "3. **Aceptar** clientes y **manejarlos** mediante `accept`."
   ]
  },
  {
   "cell_type": "markdown",
   "metadata": {
    "slideshow": {
     "slide_type": "fragment"
    }
   },
   "source": [
    "Al haber un número indefinidos clientes se recomienda crear un thread por cada conexión aceptada."
   ]
  },
  {
   "cell_type": "code",
   "execution_count": 0,
   "metadata": {
    "colab": {},
    "colab_type": "code",
    "id": "EqwRkg9U_Meu",
    "slideshow": {
     "slide_type": "subslide"
    }
   },
   "outputs": [],
   "source": [
    "import socket\n",
    "\n",
    "sock = socket.socket(socket.AF_INET, socket.SOCK_STREAM)\n",
    "\n",
    "# Así podemos obtener el hostname de la máquina.\n",
    "host = socket.gethostname()\n",
    "port = 9001\n",
    "\n",
    "# Nos enlazamos\n",
    "sock.bind((host, port))\n",
    "\n",
    "# Empezamos a escuchar\n",
    "sock.listen()\n",
    "\n",
    "counter = 0 # Solo por este ejemplo aceptaremos 5 conexiones individuales\n",
    "while counter < 5:\n",
    "    try:\n",
    "        # Aceptamos a un cliente\n",
    "        socket_cliente, address = sock.accept()\n",
    "        print(\"Conexión aceptada desde\", address)\n",
    "        \n",
    "        # Le enviamos un mensaje\n",
    "        socket_cliente.sendall(\"Gracias por conectarte\\n\".encode(\"ascii\"))\n",
    "        \n",
    "        # Lo desconectamos\n",
    "        socket_cliente.close()\n",
    "        counter += 1\n",
    "        \n",
    "    except ConnectionError:\n",
    "        print(\"Ocurrió un error.\")\n",
    "        \n",
    "# ¡No olvidemos cerrar la conexión!\n",
    "sock.close()"
   ]
  },
  {
   "cell_type": "markdown",
   "metadata": {
    "colab_type": "text",
    "id": "uVnHkc-aCQXy",
    "slideshow": {
     "slide_type": "subslide"
    }
   },
   "source": [
    "A continuación un cliente acorde al servidor anterior:"
   ]
  },
  {
   "cell_type": "code",
   "execution_count": 0,
   "metadata": {
    "colab": {},
    "colab_type": "code",
    "id": "fjrNHsEKBY5S",
    "slideshow": {
     "slide_type": "fragment"
    }
   },
   "outputs": [],
   "source": [
    "import socket\n",
    "\n",
    "sock = socket.socket(socket.AF_INET, socket.SOCK_STREAM)\n",
    "\n",
    "# Obtenemos el nombre de la máquina a la que nos queremos conectar.\n",
    "# En este caso, nos queremos conectar a esta misma máquina.\n",
    "host = socket.gethostname()\n",
    "port = 9001\n",
    "\n",
    "# Nos conectamos\n",
    "sock.connect((host, port))\n",
    "\n",
    "# Recibimos el mensaje\n",
    "data = sock.recv(4096)\n",
    "print(data.decode(\"ascii\"))\n",
    "\n",
    "# ¡No olvidemos cerrar la conexión!\n",
    "sock.close() "
   ]
  },
  {
   "cell_type": "markdown",
   "metadata": {
    "colab_type": "text",
    "id": "8LbTxdNrCei4",
    "slideshow": {
     "slide_type": "slide"
    }
   },
   "source": [
    "### Cliente UDP"
   ]
  },
  {
   "cell_type": "markdown",
   "metadata": {
    "slideshow": {
     "slide_type": "fragment"
    }
   },
   "source": [
    "Debido a que no es necesaria una **conexión** podemos enviar directamente información a una dirección ip y puerto arbitrarios."
   ]
  },
  {
   "cell_type": "code",
   "execution_count": 0,
   "metadata": {
    "colab": {},
    "colab_type": "code",
    "id": "I1BolPzYD1BQ",
    "slideshow": {
     "slide_type": "subslide"
    }
   },
   "outputs": [],
   "source": [
    "import socket\n",
    "\n",
    "sock = socket.socket(socket.AF_INET, socket.SOCK_DGRAM)\n",
    "\n",
    "server_host = socket.gethostname()\n",
    "server_port = 15000\n",
    "\n",
    "mensaje = \"Hola, simplemente te estoy enviando un mensaje.\".encode('ascii')\n",
    "sock.sendto(mensaje, (server_host, server_port))\n",
    "\n",
    "# Opcionalmente podemos recibir un mensaje junto a su origen\n",
    "data, (host_origen, puerto_origen) = sock.recvfrom(4096)\n",
    "print(data.decode('utf-8'))\n",
    "\n",
    "# ¡No olvidemos cerrar la conexión!\n",
    "sock.close()"
   ]
  },
  {
   "cell_type": "markdown",
   "metadata": {
    "colab_type": "text",
    "id": "3VnTxvNtFUBk",
    "slideshow": {
     "slide_type": "subslide"
    }
   },
   "source": [
    "### Servidor UDP"
   ]
  },
  {
   "cell_type": "markdown",
   "metadata": {
    "slideshow": {
     "slide_type": "fragment"
    }
   },
   "source": [
    "La única diferencia es que nos debemos **enlazar** con la misma dirección ip y puerto anterior."
   ]
  },
  {
   "cell_type": "code",
   "execution_count": 0,
   "metadata": {
    "colab": {},
    "colab_type": "code",
    "id": "OUGD2p31FZXM",
    "slideshow": {
     "slide_type": "subslide"
    }
   },
   "outputs": [],
   "source": [
    "import socket\n",
    "\n",
    "sock = socket.socket(socket.AF_INET, socket.SOCK_DGRAM)\n",
    "\n",
    "# Con un string vacío como argumento del bind, indicamos que el socket es \n",
    "# alcanzable desde cualquier dirección que pueda tener el servidor.\n",
    "sock.bind((\"\", 15000))\n",
    "\n",
    "while True:\n",
    "    data, (host_cliente, puerto_cliente) = sock.recvfrom(4096)\n",
    "    print(data.decode('ascii'))\n",
    "    respuesta = f\"Aquí va mi respuesta para {host_cliente}.\"\n",
    "    sock.sendto(respuesta.encode('utf-8'), (host_cliente, puerto_cliente))"
   ]
  },
  {
   "cell_type": "markdown",
   "metadata": {
    "slideshow": {
     "slide_type": "slide"
    }
   },
   "source": [
    "## Ejemplo Cachipun \n",
    "Ahora veremos un ejemplo práctico de lo anterior, vayan a la carpeta ejemplo cachipun. Para correr el código deben ejecutar el Server y luego la Interfaz, esta última ejecútenla un par de veces para probar la interacción entre ventanas."
   ]
  },
  {
   "cell_type": "markdown",
   "metadata": {
    "slideshow": {
     "slide_type": "slide"
    }
   },
   "source": [
    "# Muchas gracias! \n",
    "## Éxito en este final de semestre :D!\n",
    "### Respondan el feedback por favor, UwU"
   ]
  }
 ],
 "metadata": {
  "celltoolbar": "Slideshow",
  "colab": {
   "collapsed_sections": [],
   "name": "Enunciado Ayudantia 13.ipynb",
   "provenance": [],
   "version": "0.3.2"
  },
  "kernelspec": {
   "display_name": "Python 3",
   "language": "python",
   "name": "python3"
  },
  "language_info": {
   "codemirror_mode": {
    "name": "ipython",
    "version": 3
   },
   "file_extension": ".py",
   "mimetype": "text/x-python",
   "name": "python",
   "nbconvert_exporter": "python",
   "pygments_lexer": "ipython3",
   "version": "3.6.6"
  }
 },
 "nbformat": 4,
 "nbformat_minor": 1
}
