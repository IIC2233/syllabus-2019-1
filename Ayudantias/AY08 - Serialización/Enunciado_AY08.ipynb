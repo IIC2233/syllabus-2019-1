{
 "cells": [
  {
   "cell_type": "markdown",
   "metadata": {
    "colab_type": "text",
    "id": "_qcWsg5mO3uV"
   },
   "source": [
    "# Ayudantía 1000 : I/O + Serialización\n",
    "## Autores: [@jjaguillon](https://github.com/jjaguillon) & [@Faalfaro](https://github.com/Faalfaro)"
   ]
  },
  {
   "cell_type": "markdown",
   "metadata": {
    "colab_type": "text",
    "id": "hL85gZPjY4BK"
   },
   "source": [
    "# Paths"
   ]
  },
  {
   "cell_type": "markdown",
   "metadata": {
    "colab_type": "text",
    "id": "IFxhV3eXY4BL"
   },
   "source": [
    "## Absoluto vs Relativo\n",
    "\n",
    "Discutamos"
   ]
  },
  {
   "cell_type": "markdown",
   "metadata": {
    "colab_type": "text",
    "id": "kqeZC0FTY4BM"
   },
   "source": [
    "## import os\n",
    "\n",
    "La librería **os** de Python les permite: \n",
    "- **os.makedirs**: crear carpetas\n",
    "- **os.walk**: recorrer los paths de archivos y carpetas\n",
    "- **os.path.join**: unir paths\n",
    "- **os.listdir**: lista de archivos y carpetas presentes desde un path.\n",
    "- etc..."
   ]
  },
  {
   "cell_type": "code",
   "execution_count": 2,
   "metadata": {},
   "outputs": [],
   "source": [
    "import os"
   ]
  },
  {
   "cell_type": "markdown",
   "metadata": {
    "colab_type": "text",
    "id": "4xvP1dBoY4BN"
   },
   "source": [
    "## Ejercicios rápidos de Path\n",
    "\n",
    "Cree la carpeta \"Fotos 2019\" y luego, agregue una carpeta para cada uno de los meses"
   ]
  },
  {
   "cell_type": "code",
   "execution_count": 2,
   "metadata": {
    "colab": {},
    "colab_type": "code",
    "id": "m3x6a1AOY4BO"
   },
   "outputs": [],
   "source": [
    "months = [\"Enero\", \"Febrero\", \"Marzo\", \"Abril\",\n",
    "        \"Mayo\", \"Junio\", \"Julio\", \"Agosto\",\n",
    "        \"Septiembre\", \"Octubre\", \"Noviembre\", \"Diciembre\"]"
   ]
  },
  {
   "cell_type": "markdown",
   "metadata": {
    "colab_type": "text",
    "id": "fnTyeSQcY4BT"
   },
   "source": [
    "Imprima todos los paths que componen esta ayudantía, sin profundizar en otras carpetas"
   ]
  },
  {
   "cell_type": "code",
   "execution_count": null,
   "metadata": {
    "colab": {},
    "colab_type": "code",
    "id": "D1vGrbJKY4BT"
   },
   "outputs": [],
   "source": [
    "# COMPLETAR"
   ]
  },
  {
   "cell_type": "markdown",
   "metadata": {
    "colab_type": "text",
    "id": "WVC2elfUY4BW"
   },
   "source": [
    "Ahora imprima solo las carpetas y profundice dentro de estas, es decir, imprima las carpetas que estan dentro de esas carpetas, y así sucesivamente."
   ]
  },
  {
   "cell_type": "code",
   "execution_count": 1,
   "metadata": {
    "colab": {},
    "colab_type": "code",
    "id": "hKjy8mkkY4BX"
   },
   "outputs": [],
   "source": [
    "# COMPLETAR"
   ]
  },
  {
   "cell_type": "markdown",
   "metadata": {
    "colab_type": "text",
    "id": "31oHvG78Y4Ba"
   },
   "source": [
    "# Bytes"
   ]
  },
  {
   "cell_type": "markdown",
   "metadata": {
    "colab_type": "text",
    "id": "yw-u4_BhY4Bb"
   },
   "source": [
    "## open()\n",
    "\n",
    "Desde Introducción a la Programación conociamos los modos de apertura de archivos:\n",
    "\n",
    "- open(filepath, **'r'**): permite leer el archivo\n",
    "- open(filepath, **'w'**): permite escribir el archivo\n",
    "- open(filepath, **'a'**): permite agregar información al archivo\n",
    "\n",
    "Ahora a estos modos agregaremos el modo **binary**:\n",
    "\n",
    "- open(filepath, **rb**): lee los bytes del archivo\n",
    "- open(filepath, **wb**): escribe bytes en los archivos"
   ]
  },
  {
   "cell_type": "markdown",
   "metadata": {
    "colab_type": "text",
    "id": "U7xgVnKLZ1Hw"
   },
   "source": [
    "### ¿Qué hacer con estos bytes?\n",
    "\n",
    "Te permite editar archivos no solo de texto, sino que ahora puedes editar imágenes, audio, etc.\n",
    "\n"
   ]
  },
  {
   "cell_type": "markdown",
   "metadata": {
    "colab_type": "text",
    "id": "yneT5PfJmEpC"
   },
   "source": [
    "### Ejemplo rápido de uso de bytes\n",
    "\n",
    "Uno de los usos disponibles es encriptar tus archivos cambiando el valor o posición de los bytes que lo componen con una operación determinada. En este ejemplo tenemos una imagen formato JPG encriptada, en la que se altera el valor de cada byte bajo la operación: \n",
    "\n",
    " \n",
    "\n",
    "```\n",
    "(byte - 2233) % 256\n",
    "```\n",
    "\n",
    "\n",
    "\n",
    "\n",
    "\n",
    "\n"
   ]
  },
  {
   "cell_type": "markdown",
   "metadata": {
    "colab_type": "text",
    "id": "73mbSIlzed3V"
   },
   "source": [
    "Este nuevo archivo llamado confidential.file no mostrara nada, aunque la extensión sea la correcta, ya que sus bytes no tienen sentido para la estructura de una imagen JPG. Ahora, abriremos nuevamente este archivo para arreglar su contenido."
   ]
  },
  {
   "cell_type": "code",
   "execution_count": 0,
   "metadata": {
    "colab": {},
    "colab_type": "code",
    "id": "Wox1FPvspezc"
   },
   "outputs": [],
   "source": [
    "with open('confidential.file', 'rb') as file:\n",
    "    data = file.read()"
   ]
  },
  {
   "cell_type": "markdown",
   "metadata": {
    "colab_type": "text",
    "id": "ukhuec7Vpoi9"
   },
   "source": [
    "Una vez obtenidos los datos, procedemos a crear una estructura vacía para contenerlos y aplicamos la operación inversa para desencriptar.\n"
   ]
  },
  {
   "cell_type": "code",
   "execution_count": 3,
   "metadata": {
    "colab": {},
    "colab_type": "code",
    "id": "Wh-2rX23r3F8"
   },
   "outputs": [],
   "source": [
    "fixed_data = bytearray()\n",
    "# COMPLETAR"
   ]
  },
  {
   "cell_type": "markdown",
   "metadata": {
    "colab_type": "text",
    "id": "smjWjMZmruGM"
   },
   "source": [
    "Posteriormente, guardamos los datos correctos en un nuevo archivo y asignamos la extensión correspondiente por comodidad.\n",
    "\n"
   ]
  },
  {
   "cell_type": "code",
   "execution_count": 0,
   "metadata": {
    "colab": {},
    "colab_type": "code",
    "id": "OMWS0NckrWDN"
   },
   "outputs": [],
   "source": [
    "with open('image.jpg', 'wb') as file:\n",
    "     file.write(fixed_data)"
   ]
  },
  {
   "cell_type": "markdown",
   "metadata": {
    "colab_type": "text",
    "id": "cS7pPt5Wrbgd"
   },
   "source": [
    "Finalmente, abrimos la imagen para confirmar que la recuperamos de forma segura.\n"
   ]
  },
  {
   "cell_type": "markdown",
   "metadata": {},
   "source": [
    "# Serialización"
   ]
  },
  {
   "cell_type": "markdown",
   "metadata": {
    "colab_type": "text",
    "id": "QLc0zClszTKf"
   },
   "source": [
    "***¿Que significa serializar?***\n",
    "\n",
    "*Consiste en un proceso de codificación de un objeto en un medio de almacenamiento* "
   ]
  },
  {
   "cell_type": "markdown",
   "metadata": {
    "colab_type": "text",
    "id": "Tl-c16Tp_KQ4"
   },
   "source": [
    "# Pickle vs JSON\n",
    "\n",
    "![Resmuen](imgs/resumen.png)"
   ]
  },
  {
   "cell_type": "markdown",
   "metadata": {
    "colab_type": "text",
    "id": "5jF5Q_BEEonB"
   },
   "source": [
    "## Actividad 12 2018-1 (Con algunas modificaciones)\n",
    "\n",
    "Pueden encontrar el enunciado completo [aquí](https://github.com/IIC2233/Syllabus-2018-1/blob/master/Actividades/AC12/AC12.pdf)."
   ]
  },
  {
   "cell_type": "markdown",
   "metadata": {
    "colab_type": "text",
    "id": "XtrhOlaLGgvs"
   },
   "source": [
    "## Introducción\n",
    "\n",
    "¡Oh no! el Malvado Dr. Mavrakis ha conseguido aprender los 6 Lenguajes del Infinito y está decidido\n",
    "en lograr el balance en el IIC2233 Syllabus Universe. Para esto, el malvado rufián tiene pensado serializar a la\n",
    "mitad de los usuarios del curso Programación Avanzada, con el objetivo de debilitar el universo de los versados\n",
    "estudiantes que lo componen y así después poder serializar a la mitad de la toda la comunidad de Github.\n",
    "\n",
    "![6 lenguajes del infinito](imgs/lenguajes.png)\n",
    "\n",
    "Después de correr 14.000.605 simulaciones, te das cuenta que el único escenario posible en el que salvas\n",
    "tu semestre es ayudando al Dr. Mavrakis. Por esta razón, para esta actividad deberás hacer todo lo posible\n",
    "para que este vil villano lleve a cabo su plan."
   ]
  },
  {
   "cell_type": "markdown",
   "metadata": {
    "colab_type": "text",
    "id": "QYq6421rV4d_"
   },
   "source": [
    "## Instrucciones\n",
    "\n",
    "Debes completar las siguientes funciones:"
   ]
  },
  {
   "cell_type": "code",
   "execution_count": 0,
   "metadata": {
    "colab": {},
    "colab_type": "code",
    "id": "Ixyq-2eIlE9z"
   },
   "outputs": [],
   "source": [
    "import os\n",
    "import json\n",
    "import pickle\n",
    "from random import sample"
   ]
  },
  {
   "cell_type": "markdown",
   "metadata": {
    "colab_type": "text",
    "id": "1WHAmDltHKNs"
   },
   "source": [
    "### Parte 1\n",
    "\n",
    "\n",
    "\n",
    "**agregar_estilo**: Lamentablemente el Dr. Mavrakis no tiene conocimientos de CSS, por lo que te\n",
    "pide que le des estilo a su interfaz. Encontrarás la variable ESTILO que contiene los\n",
    "estilos de los widgets de la interfaz. Éstos están en el formato: ((widget1, estilo1), (widget2,\n",
    "estilo2), ...). Tu función debe retornar un objeto json con el formato: {widget1: estilo1,\n",
    "widget2: estilo2 ...}\n"
   ]
  },
  {
   "cell_type": "code",
   "execution_count": 0,
   "metadata": {
    "colab": {},
    "colab_type": "code",
    "id": "ssiuUaSOWDg1"
   },
   "outputs": [],
   "source": [
    "ESTILO = ((\"label_principal\", \"background-image: url(gui/logo.png);\"),\n",
    "          (\"boton_serializar\", \"background-image: url(gui/guantlet.png);\"),\n",
    "          (\"boton_deserializar\", \"background-image: url(gui/dragon_balls.png);\"),\n",
    "          (\"label_personas\",\"background-color: rgba(30, 232, 204, 153);\"),\n",
    "          (\"centralwidget\", \"#centralwidget{background-color: \"\n",
    "                            \"qlineargradient(spread:repeat, x1:0,\"\n",
    "                            \" y1:0,x2:1,y2:0,stop:0.197044 \"\n",
    "                            \"rgba(179, 179, 179, 255), \"\n",
    "                            \"stop:0.64532 rgba(204, 204, 204, 255), \"\n",
    "                            \"stop:1 rgba(255, 255, 255, 255));}\"),\n",
    "          (\"label_barra\", \"background-color: rgb(76, 76, 76);\"),\n",
    "          (\"scrollArea\", \"#area{border: 3px solid black;} \"\n",
    "                         \"QLabel{border: 1px solid grey; font-weight: bold}\"))\n",
    "\n",
    "def agregar_estilo():\n",
    "    pass\n",
    "    # COMPLETAR"
   ]
  },
  {
   "cell_type": "markdown",
   "metadata": {
    "colab_type": "text",
    "id": "e1oo-d-CWcFp"
   },
   "source": [
    "### Parte 2\n",
    "\n",
    "**cargar_personas**: El archivo ***personas.json*** contiene la información de todos los alumnos del curso.\n",
    "Cada alumno contiene atributos que no le interesan al Dr. Mavrakis, por esta razón te entrega el\n",
    "archivo ***caracteristicas.json*** con los atributos que sí necesita. Tu función deberá cargar el archivo\n",
    "personas.json utilizando un **object_hook**, el cual debe recibir una función auxiliar que se encargue\n",
    "de cargar el archivo caracteristicas.json, filtrar los atributos necesarios y retornar un objeto\n",
    "Persona. Finalmente, tu función deberá retornar una lista de Personas.\n",
    "\n",
    "**Importante**: *Asuma que la clase Persona está definida previamente.*"
   ]
  },
  {
   "cell_type": "code",
   "execution_count": 0,
   "metadata": {
    "colab": {},
    "colab_type": "code",
    "id": "E6WtpUYzX1Sm"
   },
   "outputs": [],
   "source": [
    "def json_decoder(dicto):\n",
    "    pass\n",
    "    # COMPLETAR\n",
    "\n",
    "def cargar_personas():\n",
    "    pass\n",
    "    # COMPLETAR"
   ]
  },
  {
   "cell_type": "markdown",
   "metadata": {
    "colab_type": "text",
    "id": "DfYp6j_lj98w"
   },
   "source": [
    "### Parte 3\n",
    "\n",
    "**serializar_personas(personas)**: Tu función debe seleccionar a la mitad de las personas al azar y\n",
    "serializarlas utilizando pickle. Para ello se deberán guardar los archivos generados en una carpeta\n",
    "llamada Serializados según el formato: <numero_alumno>.rip, donde numero_alumno corresponde\n",
    "al número de alumno de cada persona.\n",
    "\n",
    "Como la serialización mediante pickle transforma a las **Personas** en bytes, éstas alcanzan a decir algo antes\n",
    "de ser serializados. Es por esto que debes modificar el **\\__getstate__** de la clase Persona para que cuando\n",
    "alguien sea serializado se le agregue el atributo ultimas_palabras y este sea igual a alguna frase emotiva\n",
    "(e.g: \"Señor Nebil no me quiero ir...\")."
   ]
  },
  {
   "cell_type": "code",
   "execution_count": 0,
   "metadata": {
    "colab": {},
    "colab_type": "code",
    "id": "3WM70PZqkdic"
   },
   "outputs": [],
   "source": [
    "class Persona():\n",
    "    def __init__(self, nombre, apellido_paterno, apellido_materno, numero_alumno,\n",
    "                 codigo_genetico, hermosura, inteligencia, velocidad):\n",
    "        self.nombre = nombre\n",
    "        self.apellido_paterno = apellido_paterno\n",
    "        self.apellido_materno = apellido_materno\n",
    "        self.numero_alumno = numero_alumno\n",
    "        self.codigo_genetico = codigo_genetico\n",
    "        self.hermosura = hermosura\n",
    "        self.inteligencia = inteligencia\n",
    "        self.velocidad = velocidad\n",
    "        self.serializado = False\n",
    "    \n",
    "    def __getstate__(self):\n",
    "        pass\n",
    "        # COMPLETAR\n",
    "\n",
    "        \n",
    "def serializar_personas(personas):\n",
    "    pass\n",
    "    # COMPLETAR"
   ]
  }
 ],
 "metadata": {
  "colab": {
   "collapsed_sections": [],
   "name": "Copia de Copia de Enunciado_AY12.ipynb",
   "private_outputs": true,
   "provenance": [
    {
     "file_id": "1taA-Sw4dVYw8tmDop4pzKsGrUfFPc1j4",
     "timestamp": 1558848789067
    },
    {
     "file_id": "1U3Ww2aXg6R6eugoNzqjPaw0CIMmnVGkW",
     "timestamp": 1558833600021
    }
   ],
   "version": "0.3.2"
  },
  "kernelspec": {
   "display_name": "Python 3",
   "language": "python",
   "name": "python3"
  },
  "language_info": {
   "codemirror_mode": {
    "name": "ipython",
    "version": 3
   },
   "file_extension": ".py",
   "mimetype": "text/x-python",
   "name": "python",
   "nbconvert_exporter": "python",
   "pygments_lexer": "ipython3",
   "version": "3.6.6"
  }
 },
 "nbformat": 4,
 "nbformat_minor": 1
}
